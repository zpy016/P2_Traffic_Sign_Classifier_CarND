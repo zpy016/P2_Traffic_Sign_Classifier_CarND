{
 "cells": [
  {
   "cell_type": "markdown",
   "metadata": {},
   "source": [
    "# Self-Driving Car Engineer Nanodegree\n",
    "\n",
    "## Deep Learning\n",
    "\n",
    "## Project: Build a Traffic Sign Recognition Classifier\n",
    "\n",
    "In this notebook, a template is provided for you to implement your functionality in stages, which is required to successfully complete this project. If additional code is required that cannot be included in the notebook, be sure that the Python code is successfully imported and included in your submission if necessary. \n",
    "\n",
    "> **Note**: Once you have completed all of the code implementations, you need to finalize your work by exporting the iPython Notebook as an HTML document. Before exporting the notebook to html, all of the code cells need to have been run so that reviewers can see the final implementation and output. You can then export the notebook by using the menu above and navigating to  \\n\",\n",
    "    \"**File -> Download as -> HTML (.html)**. Include the finished document along with this notebook as your submission. \n",
    "\n",
    "In addition to implementing code, there is a writeup to complete. The writeup should be completed in a separate file, which can be either a markdown file or a pdf document. There is a [write up template](https://github.com/udacity/CarND-Traffic-Sign-Classifier-Project/blob/master/writeup_template.md) that can be used to guide the writing process. Completing the code template and writeup template will cover all of the [rubric points](https://review.udacity.com/#!/rubrics/481/view) for this project.\n",
    "\n",
    "The [rubric](https://review.udacity.com/#!/rubrics/481/view) contains \"Stand Out Suggestions\" for enhancing the project beyond the minimum requirements. The stand out suggestions are optional. If you decide to pursue the \"stand out suggestions\", you can include the code in this Ipython notebook and also discuss the results in the writeup file.\n",
    "\n",
    "\n",
    ">**Note:** Code and Markdown cells can be executed using the **Shift + Enter** keyboard shortcut. In addition, Markdown cells can be edited by typically double-clicking the cell to enter edit mode."
   ]
  },
  {
   "cell_type": "markdown",
   "metadata": {},
   "source": [
    "---\n",
    "## Step 0: Load The Data"
   ]
  },
  {
   "cell_type": "code",
   "execution_count": 250,
   "metadata": {
    "collapsed": true
   },
   "outputs": [],
   "source": [
    "# Load pickled data\n",
    "import tensorflow as tf\n",
    "import pickle\n",
    "import os\n",
    "\n",
    "# TODO: Fill this in based on where you saved the training and testing data\n",
    "# 打开目录为'./traffic-signs-data/train.p',\n",
    "training_file = os.path.join('traffic-signs-data','train.p')\n",
    "testing_file = os.path.join('traffic-signs-data','test.p')\n",
    "validation_file = os.path.join('traffic-signs-data','valid.p')\n",
    "\n",
    "with open(training_file, mode='rb') as f:\n",
    "    train = pickle.load(f)\n",
    "with open(validation_file, mode='rb') as f:\n",
    "    valid = pickle.load(f)\n",
    "with open(testing_file, mode='rb') as f:\n",
    "    test = pickle.load(f)\n",
    "    \n",
    "X_train, y_train = train['features'], train['labels']\n",
    "X_valid, y_valid = valid['features'], valid['labels']\n",
    "X_test, y_test = test['features'], test['labels']"
   ]
  },
  {
   "cell_type": "markdown",
   "metadata": {},
   "source": [
    "---\n",
    "\n",
    "## Step 1: Dataset Summary & Exploration\n",
    "\n",
    "The pickled data is a dictionary with 4 key/value pairs:\n",
    "\n",
    "- `'features'` is a 4D array containing raw pixel data of the traffic sign images, (num examples, width, height, channels).\n",
    "- `'labels'` is a 1D array containing the label/class id of the traffic sign. The file `signnames.csv` contains id -> name mappings for each id.\n",
    "- `'sizes'` is a list containing tuples, (width, height) representing the original width and height the image.\n",
    "- `'coords'` is a list containing tuples, (x1, y1, x2, y2) representing coordinates of a bounding box around the sign in the image. **THESE COORDINATES ASSUME THE ORIGINAL IMAGE. THE PICKLED DATA CONTAINS RESIZED VERSIONS (32 by 32) OF THESE IMAGES**\n",
    "\n",
    "Complete the basic data summary below. Use python, numpy and/or pandas methods to calculate the data summary rather than hard coding the results. For example, the [pandas shape method](http://pandas.pydata.org/pandas-docs/stable/generated/pandas.DataFrame.shape.html) might be useful for calculating some of the summary results. "
   ]
  },
  {
   "cell_type": "markdown",
   "metadata": {},
   "source": [
    "### Provide a Basic Summary of the Data Set Using Python, Numpy and/or Pandas"
   ]
  },
  {
   "cell_type": "code",
   "execution_count": 251,
   "metadata": {},
   "outputs": [
    {
     "name": "stdout",
     "output_type": "stream",
     "text": [
      "Number of training examples = 27839\n",
      "Number of validation examples = 6960\n",
      "Number of testing examples = 12630\n",
      "Image data shape = (32, 32, 3)\n",
      "Number of classes = 43\n"
     ]
    }
   ],
   "source": [
    "### Replace each question mark with the appropriate value. \n",
    "### Use python, pandas or numpy methods rather than hard coding the results\n",
    "import numpy as np\n",
    "\n",
    "# Split 20% of the training data for validation\n",
    "from sklearn.model_selection import train_test_split\n",
    "\n",
    "X_train, X_valid, y_train, y_valid = train_test_split(X_train, y_train, test_size = 0.2, random_state = 0)\n",
    "\n",
    "assert(len(X_train) == len(y_train))\n",
    "assert(len(X_valid) == len(y_valid))\n",
    "assert(len(X_test) == len(y_test))\n",
    "\n",
    "# TODO: Number of training examples\n",
    "n_train = len(X_train)\n",
    "\n",
    "# TODO: Number of validation examples\n",
    "n_validation = len(X_valid)\n",
    "\n",
    "# TODO: Number of testing examples.\n",
    "n_test = len(X_test)\n",
    "\n",
    "# TODO: What's the shape of an traffic sign image?\n",
    "image_shape = X_train[0].shape\n",
    "\n",
    "# TODO: How many unique classes/labels there are in the dataset.\n",
    "n_classes = len(set(y_train))\n",
    "#或者：n_classes = len(set(train['labels']))\n",
    "\n",
    "\n",
    "print(\"Number of training examples =\", n_train)\n",
    "print(\"Number of validation examples =\", n_validation)\n",
    "print(\"Number of testing examples =\", n_test)\n",
    "print(\"Image data shape =\", image_shape)\n",
    "print(\"Number of classes =\", n_classes)\n",
    "\n"
   ]
  },
  {
   "cell_type": "markdown",
   "metadata": {},
   "source": [
    "### Include an exploratory visualization of the dataset"
   ]
  },
  {
   "cell_type": "markdown",
   "metadata": {},
   "source": [
    "Visualize the German Traffic Signs Dataset using the pickled file(s). This is open ended, suggestions include: plotting traffic sign images, plotting the count of each sign, etc. \n",
    "\n",
    "The [Matplotlib](http://matplotlib.org/) [examples](http://matplotlib.org/examples/index.html) and [gallery](http://matplotlib.org/gallery.html) pages are a great resource for doing visualizations in Python.\n",
    "\n",
    "**NOTE:** It's recommended you start with something simple first. If you wish to do more, come back to it after you've completed the rest of the sections. It can be interesting to look at the distribution of classes in the training, validation and test set. Is the distribution the same? Are there more examples of some classes than others?"
   ]
  },
  {
   "cell_type": "code",
   "execution_count": 253,
   "metadata": {
    "collapsed": true
   },
   "outputs": [],
   "source": [
    "# Creat a dictionary \"signname_dict\" {'index' : 'sign name'}\n",
    "import csv\n",
    "\n",
    "with open('signnames.csv', mode='r') as infile:\n",
    "    reader = csv.reader(infile)\n",
    "    with open('singnames_new.csv', mode='w') as outfile:\n",
    "        writer = csv.writer(outfile)\n",
    "        signname_dict = {rows[0]:rows[1] for rows in reader}\n",
    "#print(signname_dict['1'])  #As a test"
   ]
  },
  {
   "cell_type": "code",
   "execution_count": 254,
   "metadata": {},
   "outputs": [
    {
     "name": "stdout",
     "output_type": "stream",
     "text": [
      "Image Index ID: 24530\n",
      "Class ID: 1\n",
      "Sign Name: Speed limit (30km/h)\n",
      "The shape of the image is (32, 32, 3)\n"
     ]
    },
    {
     "data": {
      "image/png": "[encoded data removed]",
      "text/plain": [
       "<matplotlib.figure.Figure at 0x11f39e828>"
      ]
     },
     "metadata": {},
     "output_type": "display_data"
    }
   ],
   "source": [
    "### Data exploration visualization code goes here.\n",
    "### Feel free to use as many code cells as needed.\n",
    "import random\n",
    "import matplotlib.pyplot as plt\n",
    "# Visualizations will be shown in the notebook.\n",
    "%matplotlib inline\n",
    "\n",
    "\n",
    "### Show a random image in X_train and print its data\n",
    "\n",
    "index = random.randint(0, len(X_train))\n",
    "image = X_train[index].squeeze()\n",
    "\n",
    "plt.figure(figsize=(2,2))\n",
    "plt.imshow(image)\n",
    "print('Image Index ID: {}'.format(index))\n",
    "print('Class ID: {}'.format(y_train[index]))\n",
    "print('Sign Name: {}'.format(signname_dict[str(y_train[index])]))\n",
    "print('The shape of the image is {}'.format(image.shape))\n"
   ]
  },
  {
   "cell_type": "markdown",
   "metadata": {},
   "source": [
    "----\n",
    "\n",
    "## Step 2: Design and Test a Model Architecture\n",
    "\n",
    "Design and implement a deep learning model that learns to recognize traffic signs. Train and test your model on the [German Traffic Sign Dataset](http://benchmark.ini.rub.de/?section=gtsrb&subsection=dataset).\n",
    "\n",
    "The LeNet-5 implementation shown in the [classroom](https://classroom.udacity.com/nanodegrees/nd013/parts/fbf77062-5703-404e-b60c-95b78b2f3f9e/modules/6df7ae49-c61c-4bb2-a23e-6527e69209ec/lessons/601ae704-1035-4287-8b11-e2c2716217ad/concepts/d4aca031-508f-4e0b-b493-e7b706120f81) at the end of the CNN lesson is a solid starting point. You'll have to change the number of classes and possibly the preprocessing, but aside from that it's plug and play! \n",
    "\n",
    "With the LeNet-5 solution from the lecture, you should expect a validation set accuracy of about 0.89. To meet specifications, the validation set accuracy will need to be at least 0.93. It is possible to get an even higher accuracy, but 0.93 is the minimum for a successful project submission. \n",
    "\n",
    "There are various aspects to consider when thinking about this problem:\n",
    "\n",
    "- Neural network architecture (is the network over or underfitting?)\n",
    "- Play around preprocessing techniques (normalization, rgb to grayscale, etc)\n",
    "- Number of examples per label (some have more than others).\n",
    "- Generate fake data.\n",
    "\n",
    "Here is an example of a [published baseline model on this problem](http://yann.lecun.com/exdb/publis/pdf/sermanet-ijcnn-11.pdf). It's not required to be familiar with the approach used in the paper but, it's good practice to try to read papers like these."
   ]
  },
  {
   "cell_type": "markdown",
   "metadata": {},
   "source": [
    "### Pre-process the Data Set (normalization, grayscale, etc.)"
   ]
  },
  {
   "cell_type": "markdown",
   "metadata": {},
   "source": [
    "Minimally, the image data should be normalized so that the data has mean zero and equal variance. For image data, `(pixel - 128)/ 128` is a quick way to approximately normalize the data and can be used in this project. \n",
    "\n",
    "Other pre-processing steps are optional. You can try different techniques to see if it improves performance. \n",
    "\n",
    "Use the code cell (or multiple code cells, if necessary) to implement the first step of your project."
   ]
  },
  {
   "cell_type": "code",
   "execution_count": 255,
   "metadata": {
    "collapsed": true
   },
   "outputs": [],
   "source": [
    "### Preprocess the data here. It is required to normalize the data. Other preprocessing steps could include \n",
    "### converting to grayscale, etc.\n",
    "### Feel free to use as many code cells as needed."
   ]
  },
  {
   "cell_type": "code",
   "execution_count": 256,
   "metadata": {},
   "outputs": [
    {
     "name": "stdout",
     "output_type": "stream",
     "text": [
      "Train/talidation/test are now shuffled.\n"
     ]
    }
   ],
   "source": [
    "# This block is used to shuffle the data for training, validation and test.\n",
    "# Shuffling is alwasy done first.\n",
    "from sklearn.utils import shuffle\n",
    "\n",
    "X_train, y_train = shuffle(X_train, y_train)\n",
    "X_valid, y_valid = shuffle(X_valid, y_valid)\n",
    "X_test, y_test = shuffle(X_test, y_test)\n",
    "print('Train/talidation/test are now shuffled.')"
   ]
  },
  {
   "cell_type": "code",
   "execution_count": 257,
   "metadata": {},
   "outputs": [
    {
     "name": "stdout",
     "output_type": "stream",
     "text": [
      "The shape of normalized image is (32, 32, 3)\n",
      "The shape of gray image is (32, 32)\n",
      "The shape of normalized gray image is (32, 32)\n",
      "Image Index ID: 1004\n",
      "Class ID: 38\n",
      "Sign Name: Keep right\n"
     ]
    },
    {
     "data": {
      "image/png": "[encoded data removed]",
      "text/plain": [
       "<matplotlib.figure.Figure at 0x124c09588>"
      ]
     },
     "metadata": {},
     "output_type": "display_data"
    }
   ],
   "source": [
    "### Test and visualize of all preprocessing methods\n",
    "\n",
    "import matplotlib.image as mpimg\n",
    "%matplotlib inline\n",
    "\n",
    "def img_normalization(img):\n",
    "    img_norm = np.array(img / 255.0 - 0.5 )\n",
    "    return img_norm\n",
    "\n",
    "\n",
    "\n",
    "def rgb2gray(rgb):\n",
    "    return np.dot(rgb[...,:3], [0.299, 0.587, 0.114])\n",
    "\n",
    "\n",
    "\n",
    "index = random.randint(0, len(X_train))\n",
    "image = X_train[index].squeeze()\n",
    "\n",
    "normalized_image = img_normalization(image)\n",
    "print('The shape of normalized image is {}'.format(normalized_image.shape))\n",
    "gray_image = rgb2gray(image)\n",
    "print('The shape of gray image is {}'.format(gray_image.shape))\n",
    "normalized_gray_image = img_normalization(gray_image)\n",
    "print('The shape of normalized gray image is {}'.format(normalized_gray_image.shape))\n",
    "\n",
    "fig, ax = plt.subplots(1,4, figsize=(10,4))\n",
    "ax[0].imshow(image)\n",
    "ax[1].imshow(img_normalization(image))\n",
    "ax[2].imshow(gray_image, cmap = plt.get_cmap('gray'))\n",
    "ax[3].imshow(normalized_gray_image, cmap = plt.get_cmap('gray'))\n",
    "ax[0].set_title('Original Image')\n",
    "ax[1].set_title('Normalized Image')\n",
    "ax[2].set_title('Gray Image')\n",
    "ax[3].set_title('Normalized Gray Image')\n",
    "print('Image Index ID: {}'.format(index))\n",
    "print('Class ID: {}'.format(y_train[index]))\n",
    "print('Sign Name: {}'.format(signname_dict[str(y_train[index])]))\n"
   ]
  },
  {
   "cell_type": "code",
   "execution_count": 258,
   "metadata": {
    "collapsed": true
   },
   "outputs": [],
   "source": [
    "# Image normalization and save it to X_train_norm, X_valid_norm, and X_test_norm\n",
    "\n",
    "X_train_norm = np.array(X_train / 255.0 - 0.5 )\n",
    "X_valid_norm = np.array(X_valid / 255.0 - 0.5 )\n",
    "X_test_norm = np.array(X_test / 255.0 - 0.5 )"
   ]
  },
  {
   "cell_type": "code",
   "execution_count": 259,
   "metadata": {},
   "outputs": [
    {
     "name": "stderr",
     "output_type": "stream",
     "text": [
      "100%|██████████| 27839/27839 [00:02<00:00, 12477.97images/s]\n",
      "100%|██████████| 6960/6960 [00:00<00:00, 11931.49images/s]\n",
      "100%|██████████| 12630/12630 [00:00<00:00, 12660.92images/s]\n"
     ]
    }
   ],
   "source": [
    "### Convert Color Image to Grayscale\n",
    "\n",
    "from tqdm import tqdm\n",
    "\n",
    "\"\"\"\n",
    "X_train_shape = X_train.shape\n",
    "X_valid_shape = X_valid.shape\n",
    "X_test_shape = X_test.shape\n",
    "print(X_train_shape)\n",
    "print(X_valid_shape)\n",
    "print(X_test_shape)\n",
    "\"\"\"\n",
    "\n",
    "X_train_gray_shape = np.array(np.delete(X_train.shape, 3))\n",
    "X_valid_gray_shape = np.array(np.delete(X_valid.shape, 3))\n",
    "X_test_gray_shape = np.array(np.delete(X_test.shape, 3))\n",
    "\n",
    "# print('Converting training data to grayscale...')\n",
    "images_pbar = tqdm(X_train, unit='images')\n",
    "X_train_gray_s = np.zeros(X_train_gray_shape)\n",
    "for i,img in enumerate(images_pbar) : \n",
    "    X_train_gray_s[i] = rgb2gray(X_train[i])\n",
    "    \n",
    "# print('Converting validation data to grayscale...')\n",
    "images_pbar = tqdm(X_valid, unit='images')\n",
    "X_valid_gray_s = np.zeros(X_valid_gray_shape)\n",
    "for i,img in enumerate(images_pbar) : \n",
    "    X_valid_gray_s[i] = rgb2gray(X_valid[i])\n",
    "\n",
    "# print('Converting test data to grayscale......')\n",
    "images_pbar = tqdm(X_test, unit='images')\n",
    "X_test_gray_s = np.zeros(X_test_gray_shape)\n",
    "for i,img in enumerate(images_pbar) : \n",
    "    X_test_gray_s[i] = rgb2gray(X_test[i])"
   ]
  },
  {
   "cell_type": "code",
   "execution_count": 261,
   "metadata": {},
   "outputs": [
    {
     "name": "stdout",
     "output_type": "stream",
     "text": [
      "Grayscale training images has successfully been rescaled to size (27839, 32, 32, 3).\n",
      "Grayscale validation images has successfully been rescaled to size (6960, 32, 32, 3).\n",
      "Grayscale test images has successfully been rescaled to size (12630, 32, 32, 3).\n"
     ]
    }
   ],
   "source": [
    "#Resize grayscale images from (None, 32, 32) to (None, 32, 32, 1)\n",
    "z = tf.placeholder(tf.float32, (None, 32, 32))\n",
    "size_operation = tf.expand_dims(z, 3)\n",
    "\n",
    "with tf.Session() as sess:\n",
    "    sess.run(tf.global_variables_initializer())\n",
    "    X_train_gray = sess.run(size_operation, feed_dict={z: X_train_gray_s})\n",
    "    X_valid_gray = sess.run(size_operation, feed_dict={z: X_valid_gray_s})\n",
    "    X_test_gray = sess.run(size_operation, feed_dict={z: X_test_gray_s})\n",
    "    print('Grayscale training images has successfully been rescaled to size {}.'.format(X_train.shape))\n",
    "    print('Grayscale validation images has successfully been rescaled to size {}.'.format(X_valid.shape))\n",
    "    print('Grayscale test images has successfully been rescaled to size {}.'.format(X_test.shape))\n"
   ]
  },
  {
   "cell_type": "code",
   "execution_count": 262,
   "metadata": {
    "collapsed": true
   },
   "outputs": [],
   "source": [
    "# Image normalization and save it to X_train_norm, X_valid_norm, and X_test_norm\n",
    "\n",
    "X_train_ngray = np.array(X_train_gray / 255.0 - 0.5 )\n",
    "X_valid_ngray = np.array(X_valid_gray / 255.0 - 0.5 )\n",
    "X_test_ngray = np.array(X_test_gray / 255.0 - 0.5 )"
   ]
  },
  {
   "cell_type": "code",
   "execution_count": 263,
   "metadata": {},
   "outputs": [
    {
     "name": "stdout",
     "output_type": "stream",
     "text": [
      "Image Index ID: 9603\n",
      "Class ID: 8\n",
      "Sign Name: Speed limit (120km/h)\n"
     ]
    },
    {
     "data": {
      "text/plain": [
       "<matplotlib.text.Text at 0x1245ae7b8>"
      ]
     },
     "execution_count": 263,
     "metadata": {},
     "output_type": "execute_result"
    },
    {
     "data": {
      "image/png": "[encoded data removed]",
      "text/plain": [
       "<matplotlib.figure.Figure at 0x12485cf98>"
      ]
     },
     "metadata": {},
     "output_type": "display_data"
    }
   ],
   "source": [
    "\"\"\"图像-标签对应测试模块\"\"\"\n",
    "### Test if the image and lables match with each other.\n",
    "import random\n",
    "import matplotlib.pyplot as plt\n",
    "# Visualizations will be shown in the notebook.\n",
    "%matplotlib inline\n",
    "\n",
    "\n",
    "### Show a random image in X_train and print its data\n",
    "\n",
    "index = random.randint(0, len(X_train))\n",
    "image = X_train[index].squeeze()\n",
    "#  _norm   _gray  _ngray\n",
    "print('Image Index ID: {}'.format(index))\n",
    "print('Class ID: {}'.format(y_train[index]))\n",
    "print('Sign Name: {}'.format(signname_dict[str(y_train[index])]))\n",
    "\n",
    "fig, ax = plt.subplots(1,4, figsize=(10,4))\n",
    "ax[0].imshow(X_train[index].squeeze())\n",
    "ax[1].imshow(X_train_norm[index].squeeze())\n",
    "ax[2].imshow(X_train_gray[index].squeeze(), cmap = plt.get_cmap('gray'))\n",
    "ax[3].imshow(X_train_ngray[index].squeeze(), cmap = plt.get_cmap('gray'))\n",
    "ax[0].set_title('Original Image')\n",
    "ax[1].set_title('Normalized Image')\n",
    "ax[2].set_title('Gray Image')\n",
    "ax[3].set_title('Normalized Gray Image')\n"
   ]
  },
  {
   "cell_type": "markdown",
   "metadata": {},
   "source": [
    "### Model Architecture"
   ]
  },
  {
   "cell_type": "code",
   "execution_count": 265,
   "metadata": {
    "collapsed": true
   },
   "outputs": [],
   "source": [
    "### Define your architecture here.\n",
    "### Feel free to use as many code cells as needed."
   ]
  },
  {
   "cell_type": "code",
   "execution_count": 266,
   "metadata": {
    "collapsed": true
   },
   "outputs": [],
   "source": [
    "def set_prep_parameters(prep_mtd = ['org']):\n",
    "    #X_train_org, X_valid_org, X_test_org = X_train, X_valid, X_test \n",
    "    if prep_mtd == 'org':\n",
    "        X_train_l, X_valid_l, X_test_l = X_train, X_valid, X_test\n",
    "        input_dim = 3\n",
    "        print('Parameters set for original images.')\n",
    "    elif prep_mtd == 'norm':\n",
    "        X_train_l, X_valid_l, X_test_l = X_train_norm, X_valid_norm, X_test_norm\n",
    "        input_dim = 3\n",
    "        print('Parameters set for normalized images.')\n",
    "    elif prep_mtd == 'gray':\n",
    "        X_train_l, X_valid_l, X_test_l = X_train_gray, X_valid_gray, X_test_gray\n",
    "        input_dim = 1\n",
    "        print('Parameters set for grayscale images.')\n",
    "    elif prep_mtd == 'ngray':\n",
    "        X_train_l, X_valid_l, X_test_l = X_train_ngray, X_valid_ngray, X_test_ngray\n",
    "        input_dim = 1\n",
    "        print('Parameters set for normalized grayscale images.')\n",
    "    else:\n",
    "        print('Invalid Preprocessing Method: \\'org\\' for origional image, \\'norm\\' for normalization, \\'gray\\' for grayscale, \\'ngray\\' for normalized gray scall')\n",
    "    return X_train_l, X_valid_l, X_test_l, input_dim"
   ]
  },
  {
   "cell_type": "code",
   "execution_count": 267,
   "metadata": {},
   "outputs": [
    {
     "name": "stdout",
     "output_type": "stream",
     "text": [
      "Parameters set for normalized images.\n"
     ]
    }
   ],
   "source": [
    "### Parameter Setting Dashboard\n",
    "\n",
    "\n",
    "# Set training parameters: usu. EPOCHS: 10~50, BATCH_SIZE: 64 or 128 \n",
    "EPOCHS = 23\n",
    "BATCH_SIZE = 128\n",
    "\n",
    "# Learning rate during training\n",
    "rate = 0.0006\n",
    "\n",
    "# Arguments used for tf.truncated_normal, randomly defines variables for the weights and biases for each layer\n",
    "LeNet_mu = 0\n",
    "LeNet_sigma = 0.1\n",
    "\n",
    "# Dropout at Fully Connected activation layer: usu. 0.5~0.95\n",
    "train_keep_prob = 0.6\n",
    "\n",
    "# Preprocessing Method: 'org' for origional image, 'norm' for normalization, 'gray' for grayscale, \n",
    "#                       'ngray' for normalized gray scall\n",
    "prep_mtd = 'norm'\n",
    "X_train, X_valid, X_test, input_dim = set_prep_parameters(prep_mtd)\n",
    "# Note: Imput image dimension is set in the above function: 3 for color images, 1 for gray images\n",
    "\n",
    "saved_model = './norm_model_2.ckpt'\n",
    "\n",
    "\n"
   ]
  },
  {
   "cell_type": "code",
   "execution_count": 268,
   "metadata": {
    "collapsed": true
   },
   "outputs": [],
   "source": [
    "from tensorflow.contrib.layers import flatten\n",
    "\n",
    "def LeNet(x, keep_prob = [1], input_dim = [3], mu = [0], sigma = [0.1]):    \n",
    "    # Arguments used for tf.truncated_normal, randomly defines variables for the weights and biases for each layer\n",
    "    #mu = 0\n",
    "    #sigma = 0.1\n",
    "    \n",
    "    # SOLUTION: Layer 1: Convolutional. Input = 32x32x3. Output = 28x28x6.\n",
    "    conv1_W = tf.Variable(tf.truncated_normal(shape=(5, 5, input_dim, 6), mean = mu, stddev = sigma))\n",
    "    conv1_b = tf.Variable(tf.zeros(6))\n",
    "    conv1   = tf.nn.conv2d(x, conv1_W, strides=[1, 1, 1, 1], padding='VALID') + conv1_b\n",
    "\n",
    "    # SOLUTION: Activation.\n",
    "    conv1 = tf.nn.relu(conv1)\n",
    "\n",
    "    # SOLUTION: Pooling. Input = 28x28x6. Output = 14x14x6.\n",
    "    conv1 = tf.nn.max_pool(conv1, ksize=[1, 2, 2, 1], strides=[1, 2, 2, 1], padding='VALID')\n",
    "\n",
    "    # SOLUTION: Layer 2: Convolutional. Output = 10x10x16.\n",
    "    conv2_W = tf.Variable(tf.truncated_normal(shape=(5, 5, 6, 16), mean = mu, stddev = sigma))\n",
    "    conv2_b = tf.Variable(tf.zeros(16))\n",
    "    conv2   = tf.nn.conv2d(conv1, conv2_W, strides=[1, 1, 1, 1], padding='VALID') + conv2_b\n",
    "    \n",
    "    # SOLUTION: Activation.\n",
    "    conv2 = tf.nn.relu(conv2)\n",
    "\n",
    "    # SOLUTION: Pooling. Input = 10x10x16. Output = 5x5x16.\n",
    "    conv2 = tf.nn.max_pool(conv2, ksize=[1, 2, 2, 1], strides=[1, 2, 2, 1], padding='VALID')\n",
    "\n",
    "    # SOLUTION: Flatten. Input = 5x5x16. Output = 400.\n",
    "    fc0   = flatten(conv2)\n",
    "    \n",
    "    # SOLUTION: Layer 3: Fully Connected. Input = 400. Output = 180.\n",
    "    fc1_W = tf.Variable(tf.truncated_normal(shape=(400, 180), mean = mu, stddev = sigma))\n",
    "    fc1_b = tf.Variable(tf.zeros(180))\n",
    "    fc1   = tf.matmul(fc0, fc1_W) + fc1_b\n",
    "    \n",
    "    # SOLUTION: Activation.\n",
    "    fc1    = tf.nn.relu(fc1)\n",
    "    fc1  = tf.nn.dropout(fc1, keep_prob)\n",
    "\n",
    "    # SOLUTION: Layer 4: Fully Connected. Input = 180. Output = 90.\n",
    "    fc2_W  = tf.Variable(tf.truncated_normal(shape=(180, 90), mean = mu, stddev = sigma))\n",
    "    fc2_b  = tf.Variable(tf.zeros(90))\n",
    "    fc2    = tf.matmul(fc1, fc2_W) + fc2_b\n",
    "    \n",
    "    # SOLUTION: Activation.\n",
    "    fc2    = tf.nn.relu(fc2)\n",
    "    fc2  = tf.nn.dropout(fc2, keep_prob)\n",
    "\n",
    "    # SOLUTION: Layer 5: Fully Connected. Input = 90. Output = 43.\n",
    "    fc3_W  = tf.Variable(tf.truncated_normal(shape=(90, 43), mean = mu, stddev = sigma))\n",
    "    fc3_b  = tf.Variable(tf.zeros(43))\n",
    "    logits = tf.matmul(fc2, fc3_W) + fc3_b\n",
    "    \n",
    "    return logits"
   ]
  },
  {
   "cell_type": "code",
   "execution_count": 269,
   "metadata": {
    "collapsed": true
   },
   "outputs": [],
   "source": [
    "# Set x, y, one_hot_y\n",
    "x = tf.placeholder(tf.float32, (None, 32, 32, input_dim))\n",
    "y = tf.placeholder(tf.int32, (None))\n",
    "one_hot_y = tf.one_hot(y, 43)\n",
    "keep_prob = tf.placeholder(tf.float32)"
   ]
  },
  {
   "cell_type": "markdown",
   "metadata": {},
   "source": [
    "### Train, Validate and Test the Model"
   ]
  },
  {
   "cell_type": "markdown",
   "metadata": {},
   "source": [
    "A validation set can be used to assess how well the model is performing. A low accuracy on the training and validation\n",
    "sets imply underfitting. A high accuracy on the training set but low accuracy on the validation set implies overfitting."
   ]
  },
  {
   "cell_type": "code",
   "execution_count": 270,
   "metadata": {
    "collapsed": true
   },
   "outputs": [],
   "source": [
    "### Train your model here.\n",
    "### Calculate and report the accuracy on the training and validation set.\n",
    "### Once a final model architecture is selected, \n",
    "### the accuracy on the test set should be calculated and reported as well.\n",
    "### Feel free to use as many code cells as needed.\n"
   ]
  },
  {
   "cell_type": "code",
   "execution_count": 271,
   "metadata": {
    "collapsed": true
   },
   "outputs": [],
   "source": [
    "# Training Pipeline\n",
    "\n",
    "logits = LeNet(x, keep_prob, input_dim, LeNet_mu, LeNet_sigma)\n",
    "cross_entropy = tf.nn.softmax_cross_entropy_with_logits(labels=one_hot_y, logits=logits)\n",
    "loss_operation = tf.reduce_mean(cross_entropy)\n",
    "optimizer = tf.train.AdamOptimizer(learning_rate = rate)\n",
    "training_operation = optimizer.minimize(loss_operation)"
   ]
  },
  {
   "cell_type": "code",
   "execution_count": 272,
   "metadata": {
    "collapsed": true
   },
   "outputs": [],
   "source": [
    "# Model Evaluation\n",
    "correct_prediction = tf.equal(tf.argmax(logits, 1), tf.argmax(one_hot_y, 1))\n",
    "accuracy_operation = tf.reduce_mean(tf.cast(correct_prediction, tf.float32))\n",
    "saver = tf.train.Saver()\n",
    "\n",
    "def evaluate(X_data, y_data):\n",
    "    num_examples = len(X_data)\n",
    "    total_accuracy = 0\n",
    "    sess = tf.get_default_session()\n",
    "    for offset in range(0, num_examples, BATCH_SIZE):\n",
    "        batch_x, batch_y = X_data[offset:offset+BATCH_SIZE], y_data[offset:offset+BATCH_SIZE]\n",
    "        accuracy = sess.run(accuracy_operation, feed_dict={x: batch_x, y: batch_y, keep_prob: 1.0})\n",
    "        total_accuracy += (accuracy * len(batch_x))\n",
    "    return total_accuracy / num_examples"
   ]
  },
  {
   "cell_type": "code",
   "execution_count": 273,
   "metadata": {},
   "outputs": [
    {
     "name": "stdout",
     "output_type": "stream",
     "text": [
      "Training...\n",
      "\n",
      "EPOCH 1 ...\n",
      "Training Accuracy = 0.514\n",
      "Validation Accuracy = 0.509\n",
      "Speed: 69.33 s/epoch, Time left: 25.4 min\n",
      "EPOCH 2 ...\n",
      "Training Accuracy = 0.782\n",
      "Validation Accuracy = 0.773\n",
      "Speed: 62.62 s/epoch, Time left: 23.1 min\n",
      "EPOCH 3 ...\n",
      "Training Accuracy = 0.872\n",
      "Validation Accuracy = 0.865\n",
      "Speed: 65.80 s/epoch, Time left: 22.0 min\n",
      "EPOCH 4 ...\n",
      "Training Accuracy = 0.916\n",
      "Validation Accuracy = 0.905\n",
      "Speed: 67.82 s/epoch, Time left: 21.0 min\n",
      "EPOCH 5 ...\n",
      "Training Accuracy = 0.937\n",
      "Validation Accuracy = 0.923\n",
      "Speed: 67.63 s/epoch, Time left: 20.0 min\n",
      "EPOCH 6 ...\n",
      "Training Accuracy = 0.949\n",
      "Validation Accuracy = 0.936\n",
      "Speed: 59.39 s/epoch, Time left: 18.5 min\n",
      "EPOCH 7 ...\n",
      "Training Accuracy = 0.958\n",
      "Validation Accuracy = 0.949\n",
      "Speed: 60.13 s/epoch, Time left: 17.2 min\n",
      "EPOCH 8 ...\n",
      "Training Accuracy = 0.967\n",
      "Validation Accuracy = 0.958\n",
      "Speed: 55.84 s/epoch, Time left: 15.9 min\n",
      "EPOCH 9 ...\n",
      "Training Accuracy = 0.974\n",
      "Validation Accuracy = 0.961\n",
      "Speed: 59.85 s/epoch, Time left: 14.7 min\n",
      "EPOCH 10 ...\n",
      "Training Accuracy = 0.973\n",
      "Validation Accuracy = 0.962\n",
      "Speed: 64.70 s/epoch, Time left: 13.7 min\n",
      "EPOCH 11 ...\n",
      "Training Accuracy = 0.978\n",
      "Validation Accuracy = 0.968\n",
      "Speed: 60.49 s/epoch, Time left: 12.6 min\n",
      "EPOCH 12 ...\n",
      "Training Accuracy = 0.979\n",
      "Validation Accuracy = 0.971\n",
      "Speed: 59.47 s/epoch, Time left: 11.5 min\n",
      "EPOCH 13 ...\n",
      "Training Accuracy = 0.981\n",
      "Validation Accuracy = 0.971\n",
      "Speed: 58.16 s/epoch, Time left: 10.4 min\n",
      "EPOCH 14 ...\n",
      "Training Accuracy = 0.986\n",
      "Validation Accuracy = 0.976\n",
      "Speed: 58.00 s/epoch, Time left: 9.3 min\n",
      "EPOCH 15 ...\n",
      "Training Accuracy = 0.987\n",
      "Validation Accuracy = 0.975\n",
      "Speed: 62.04 s/epoch, Time left: 8.3 min\n",
      "EPOCH 16 ...\n",
      "Training Accuracy = 0.989\n",
      "Validation Accuracy = 0.979\n",
      "Speed: 60.21 s/epoch, Time left: 7.2 min\n",
      "EPOCH 17 ...\n",
      "Training Accuracy = 0.990\n",
      "Validation Accuracy = 0.980\n",
      "Speed: 62.06 s/epoch, Time left: 6.2 min\n",
      "EPOCH 18 ...\n",
      "Training Accuracy = 0.992\n",
      "Validation Accuracy = 0.982\n",
      "Speed: 62.07 s/epoch, Time left: 5.2 min\n",
      "EPOCH 19 ...\n",
      "Training Accuracy = 0.993\n",
      "Validation Accuracy = 0.983\n",
      "Speed: 64.28 s/epoch, Time left: 4.1 min\n",
      "EPOCH 20 ...\n",
      "Training Accuracy = 0.991\n",
      "Validation Accuracy = 0.981\n",
      "Speed: 58.00 s/epoch, Time left: 3.1 min\n",
      "EPOCH 21 ...\n",
      "Training Accuracy = 0.994\n",
      "Validation Accuracy = 0.985\n",
      "Speed: 64.17 s/epoch, Time left: 2.1 min\n",
      "EPOCH 22 ...\n",
      "Training Accuracy = 0.994\n",
      "Validation Accuracy = 0.985\n",
      "Speed: 59.96 s/epoch, Time left: 1.0 min\n",
      "EPOCH 23 ...\n",
      "Training Accuracy = 0.995\n",
      "Validation Accuracy = 0.984\n",
      "Speed: 61.99 s/epoch, Time left: 0.0 min\n",
      "Model saved. Total time: 23.7 min.\n"
     ]
    }
   ],
   "source": [
    "# Train the Model\n",
    "import time\n",
    "with tf.Session() as sess:\n",
    "    sess.run(tf.global_variables_initializer())\n",
    "    num_examples = len(X_train)\n",
    "    accuracy = []\n",
    "    \n",
    "    print(\"Training...\")\n",
    "    print()\n",
    "    \n",
    "    for i in range(EPOCHS):\n",
    "        if i == 0:\n",
    "            start0 = time.time()\n",
    "        start = time.time()\n",
    "        X_train, y_train = shuffle(X_train, y_train)\n",
    "        for offset in range(0, num_examples, BATCH_SIZE):\n",
    "            end = offset + BATCH_SIZE\n",
    "            batch_x, batch_y = X_train[offset:end], y_train[offset:end]\n",
    "            sess.run(training_operation, feed_dict={x: batch_x, y: batch_y, keep_prob: train_keep_prob})\n",
    "            \n",
    "        validation_accuracy = evaluate(X_valid, y_valid)\n",
    "        training_accuracy = evaluate(X_train, y_train)\n",
    "        accuracy.append(validation_accuracy)\n",
    "        end = time.time()\n",
    "        if i%1 == 0 or i == 0:\n",
    "            print(\"EPOCH {} ...\".format(i+1))\n",
    "            print(\"Training Accuracy = {:.3f}\".format(training_accuracy))\n",
    "            print(\"Validation Accuracy = {:.3f}\".format(validation_accuracy))\n",
    "            print(\"Speed: {:.2f} s/epoch,\".format(end - start), \"Time left: {:.1f} min\".format((EPOCHS-i-1)*(end - start0)/(i+1)/60))\n",
    "       \n",
    "    saver.save(sess, saved_model)\n",
    "    print(\"Model saved. Total time: {:.1f} min.\".format((end - start0)/60))"
   ]
  },
  {
   "cell_type": "code",
   "execution_count": 274,
   "metadata": {},
   "outputs": [
    {
     "name": "stdout",
     "output_type": "stream",
     "text": [
      "[['1', 'norm', '20', '128', '0.6', '0', '0.1', '0.001', '0.9865'], ['2', 'norm', '20', '128', '0.5', '0', '0.1', '0.001', '0.9858'], ['3', 'gray', '20', '128', '0.5', '0', '0.1', '0.001', '0.9211'], ['4', 'gray', '30', '128', '0.5', '0', '0.1', '0.001', '0.9677'], ['5', 'ngray', '20', '128', '0.5', '0', '0.1', '0.001', '0.9859'], ['6', 'ngray', '30', '128', '0.5', '0', '0.1', '0.0005', '0.9829'], ['7', 'norm', '30', '128', '0.6', '0', '0.1', '0.0006', '0.9879'], ['8nm1', 'norm', '25', '128', '0.6', '0', '0.1', '0.0006', '0.9858'], ['9', 'norm', 23, 128, 0.6, 0, 0.1, 0.0006, '0.9841']]\n"
     ]
    }
   ],
   "source": [
    "### Recording training results\n",
    "## Import csv file and read it to a list called data_result\n",
    "import csv\n",
    "\n",
    "with open(\"data_recorder.csv\",\"r\") as csv_file:\n",
    "    reader = csv.reader(csv_file, delimiter=',')\n",
    "    data_result = list(reader)\n",
    "\n",
    "# data_result = []\n",
    "\n",
    "def data_record(data_result, prep_mtd, EPOCHS, BATCH_SIZE, train_keep_prob, LeNet_mu, LeNet_sigma, learning_rate, accuracy):\n",
    "    i = len(data_result) + 1\n",
    "    accuracy = [float(i) for i in accuracy]    # map(float, accuracy) is also good\n",
    "    accuracy = [format(i, '0.4f') for i in accuracy]\n",
    "    data_result.append([str(i), prep_mtd, EPOCHS, BATCH_SIZE, train_keep_prob, LeNet_mu, LeNet_sigma, learning_rate, accuracy[-1]])\n",
    "    return data_result\n",
    "\n",
    "data_result = data_record(data_result, prep_mtd, EPOCHS, BATCH_SIZE, train_keep_prob, LeNet_mu, LeNet_sigma, rate, accuracy)\n",
    "print(data_result)  \n",
    "\n",
    "### Write the result to a CSV file and Save the CSV file\n",
    "\n",
    "with open(\"data_recorder.csv\", \"w\") as csv_file:\n",
    "    writer = csv.writer(csv_file, delimiter=',')\n",
    "    writer.writerows(data_result)"
   ]
  },
  {
   "cell_type": "code",
   "execution_count": 275,
   "metadata": {},
   "outputs": [
    {
     "name": "stdout",
     "output_type": "stream",
     "text": [
      "Test Accuracy = 0.928\n"
     ]
    }
   ],
   "source": [
    "# Evaluate the Model\n",
    "with tf.Session() as sess:\n",
    "    saver.restore(sess, tf.train.latest_checkpoint('.'))\n",
    "\n",
    "    test_accuracy = evaluate(X_test, y_test)\n",
    "    print(\"Test Accuracy = {:.3f}\".format(test_accuracy))"
   ]
  },
  {
   "cell_type": "markdown",
   "metadata": {},
   "source": [
    "---\n",
    "\n",
    "## Step 3: Test a Model on New Images\n",
    "\n",
    "To give yourself more insight into how your model is working, download at least five pictures of German traffic signs from the web and use your model to predict the traffic sign type.\n",
    "\n",
    "You may find `signnames.csv` useful as it contains mappings from the class id (integer) to the actual sign name."
   ]
  },
  {
   "cell_type": "markdown",
   "metadata": {},
   "source": [
    "### Load and Output the Images"
   ]
  },
  {
   "cell_type": "code",
   "execution_count": 276,
   "metadata": {
    "collapsed": true
   },
   "outputs": [],
   "source": [
    "### Load the images and plot them here.\n",
    "### Feel free to use as many code cells as needed."
   ]
  },
  {
   "cell_type": "code",
   "execution_count": 277,
   "metadata": {
    "collapsed": true
   },
   "outputs": [],
   "source": [
    "#File conversion\n",
    "#img = Image.open(\"Test_data_ppm/005.ppm\")\n",
    "#img.save(\"Test_data_jpg/005.jpg\")"
   ]
  },
  {
   "cell_type": "code",
   "execution_count": 278,
   "metadata": {},
   "outputs": [
    {
     "data": {
      "image/png": "[encoded data removed]",
      "text/plain": [
       "<matplotlib.figure.Figure at 0x11d57dd30>"
      ]
     },
     "metadata": {},
     "output_type": "display_data"
    }
   ],
   "source": [
    "#from PIL import Image\n",
    "import PIL\n",
    "#import matplotlib.image as mpimg\n",
    "%matplotlib inline\n",
    "#import matplotlib.pyplot as plt\n",
    "#import numpy as np\n",
    "\n",
    "\n",
    "\n",
    "def mylistdir(directory):\n",
    "    \"\"\"A specialized version of os.listdir() that ignores files that\n",
    "    start with a leading period.\"\"\"\n",
    "    filelist = os.listdir(directory)\n",
    "    return [x for x in filelist\n",
    "            if not (x.startswith('.'))]\n",
    "\n",
    "img_test_list = []\n",
    "filename_list = []\n",
    "\n",
    "for filename in mylistdir('Test_data_jpg'):\n",
    "    img = PIL.Image.open('Test_data_jpg/' + filename)\n",
    "    img_test = img.resize((32, 32), 1)\n",
    "    img_test_list.append(img_test)\n",
    "    filename_list.append(filename)\n",
    "    \n",
    "fig, ax = plt.subplots(1,len(img_test_list), figsize=(15,15))\n",
    "for i in range(len(img_test_list)):\n",
    "    ax[i].imshow(img_test_list[i])\n",
    "    ax[i].set_title(filename_list[i])\n",
    "    \n",
    "correct_lable_list = [10, 38, 40, 6, 9]\n",
    "\n",
    "\n"
   ]
  },
  {
   "cell_type": "markdown",
   "metadata": {},
   "source": [
    "### Predict the Sign Type for Each Image"
   ]
  },
  {
   "cell_type": "code",
   "execution_count": 279,
   "metadata": {
    "collapsed": true
   },
   "outputs": [],
   "source": [
    "### Run the predictions here and use the model to output the prediction for each image.\n",
    "### Make sure to pre-process the images with the same pre-processing pipeline used earlier.\n",
    "### Feel free to use as many code cells as needed."
   ]
  },
  {
   "cell_type": "code",
   "execution_count": 280,
   "metadata": {
    "collapsed": true
   },
   "outputs": [],
   "source": [
    "#i = 0\n",
    "#print(correct_lable_list[i])\n",
    "#print(signname_dict[str(correct_lable_list[i])])"
   ]
  },
  {
   "cell_type": "code",
   "execution_count": 281,
   "metadata": {},
   "outputs": [
    {
     "name": "stdout",
     "output_type": "stream",
     "text": [
      "Time to run this cell: 68.6 s\n",
      "The accuracy is 100 %.\n"
     ]
    },
    {
     "data": {
      "image/png": "[encoded data removed]",
      "text/plain": [
       "<matplotlib.figure.Figure at 0x124a85160>"
      ]
     },
     "metadata": {},
     "output_type": "display_data"
    }
   ],
   "source": [
    "# Pre-process images\n",
    "start = time.time()\n",
    "import math\n",
    "\n",
    "logits_list = []\n",
    "i = 0\n",
    "correct_cnt = 0\n",
    "%matplotlib inline\n",
    "\n",
    "def pre_process(img_test_4d_i, prep_mtd):\n",
    "    if prep_mtd == 'org':\n",
    "        img_test_4d_o = img_test_4d_i\n",
    "    elif prep_mtd == 'norm':\n",
    "        img_test_4d_o = img_normalization(img_test_4d_i)\n",
    "    elif prep_mtd == 'gray':\n",
    "        img_test_4d_o = rgb2gray(img_test_4d_i)\n",
    "    elif prep_mtd == 'ngray':\n",
    "        img_test_4d_o = img_normalization(rgb2gray(img_test_4d_i))\n",
    "    else:\n",
    "        print('Invalid Preprocessing Method: \\'org\\' for origional image, \\'norm\\' for normalization, \\'gray\\' for grayscale, \\'ngray\\' for normalized gray scall')\n",
    "    return img_test_4d_o\n",
    "\n",
    "\n",
    "\n",
    "fig, ax = plt.subplots(math.ceil(len(img_test_list)/3), 3, figsize=(13,13))\n",
    "\n",
    "for img in img_test_list:\n",
    "    img_test = np.asarray(img)\n",
    "    img_test_4d = img_test[np.newaxis, ...]\n",
    "    img_test_4d_p = pre_process(img_test_4d, prep_mtd)\n",
    "    with tf.Session() as sess:\n",
    "        read_model = saved_model  # usu. './model.ckpt'  !!!!!!!!!!!!!!!!!!读取模型在这里!!!!!!!!!!!!!!!!!!!\n",
    "        saver.restore(sess, read_model)\n",
    "        logits_new = sess.run(logits, feed_dict = {x: img_test_4d_p, keep_prob: 1.0})\n",
    "        logits_list.append(logits_new)\n",
    "        logits_prediction = np.argmax(logits_new)\n",
    "    ax = plt.subplot(math.ceil(len(img_test_list)/3), 3, i+1)\n",
    "    plt.imshow(img)\n",
    "    ax.set_title('TSC: ' + signname_dict[str(logits_prediction)])\n",
    "    #plt.suptitle('TSC Prediction: ' + signname_dict[str(logits_prediction)])\n",
    "    if logits_prediction == correct_lable_list[i]:\n",
    "        correct_cnt += 1\n",
    "    else:\n",
    "        print('The image number ' + str(i+1) + ' is incorrect. It should be ' + signname_dict[str(correct_lable_list[i])] + '.')\n",
    "    i += 1\n",
    "\n",
    "\n",
    "\n",
    "end = time.time()   \n",
    "print('Time to run this cell: {:.1f} s'.format(end - start))\n",
    "print('The accuracy is {0:.0f} %.'.format(100*correct_cnt/len(img_test_list))) \n",
    "\n",
    "\n",
    "    "
   ]
  },
  {
   "cell_type": "markdown",
   "metadata": {},
   "source": [
    "### Analyze Performance"
   ]
  },
  {
   "cell_type": "code",
   "execution_count": 282,
   "metadata": {},
   "outputs": [
    {
     "name": "stdout",
     "output_type": "stream",
     "text": [
      "The accuracy is 100%.\n"
     ]
    }
   ],
   "source": [
    "### Calculate the accuracy for these 5 new images. \n",
    "### For example, if the model predicted 1 out of 5 signs correctly, it's 20% accurate on these new images.\n",
    "print('The accuracy is {0:.0f}%.'.format(100*correct_cnt/len(img_test_list))) "
   ]
  },
  {
   "cell_type": "markdown",
   "metadata": {},
   "source": [
    "### Output Top 5 Softmax Probabilities For Each Image Found on the Web"
   ]
  },
  {
   "cell_type": "markdown",
   "metadata": {},
   "source": [
    "For each of the new images, print out the model's softmax probabilities to show the **certainty** of the model's predictions (limit the output to the top 5 probabilities for each image). [`tf.nn.top_k`](https://www.tensorflow.org/versions/r0.12/api_docs/python/nn.html#top_k) could prove helpful here. \n",
    "\n",
    "The example below demonstrates how tf.nn.top_k can be used to find the top k predictions for each image.\n",
    "\n",
    "`tf.nn.top_k` will return the values and indices (class ids) of the top k predictions. So if k=3, for each sign, it'll return the 3 largest probabilities (out of a possible 43) and the correspoding class ids.\n",
    "\n",
    "Take this numpy array as an example. The values in the array represent predictions. The array contains softmax probabilities for five candidate images with six possible classes. `tk.nn.top_k` is used to choose the three classes with the highest probability:\n",
    "\n",
    "```\n",
    "# (5, 6) array\n",
    "a = np.array([[ 0.24879643,  0.07032244,  0.12641572,  0.34763842,  0.07893497,\n",
    "         0.12789202],\n",
    "       [ 0.28086119,  0.27569815,  0.08594638,  0.0178669 ,  0.18063401,\n",
    "         0.15899337],\n",
    "       [ 0.26076848,  0.23664738,  0.08020603,  0.07001922,  0.1134371 ,\n",
    "         0.23892179],\n",
    "       [ 0.11943333,  0.29198961,  0.02605103,  0.26234032,  0.1351348 ,\n",
    "         0.16505091],\n",
    "       [ 0.09561176,  0.34396535,  0.0643941 ,  0.16240774,  0.24206137,\n",
    "         0.09155967]])\n",
    "```\n",
    "\n",
    "Running it through `sess.run(tf.nn.top_k(tf.constant(a), k=3))` produces:\n",
    "\n",
    "```\n",
    "TopKV2(values=array([[ 0.34763842,  0.24879643,  0.12789202],\n",
    "       [ 0.28086119,  0.27569815,  0.18063401],\n",
    "       [ 0.26076848,  0.23892179,  0.23664738],\n",
    "       [ 0.29198961,  0.26234032,  0.16505091],\n",
    "       [ 0.34396535,  0.24206137,  0.16240774]]), indices=array([[3, 0, 5],\n",
    "       [0, 1, 4],\n",
    "       [0, 5, 1],\n",
    "       [1, 3, 5],\n",
    "       [1, 4, 3]], dtype=int32))\n",
    "```\n",
    "\n",
    "Looking just at the first row we get `[ 0.34763842,  0.24879643,  0.12789202]`, you can confirm these are the 3 largest probabilities in `a`. You'll also notice `[3, 0, 5]` are the corresponding indices."
   ]
  },
  {
   "cell_type": "code",
   "execution_count": 283,
   "metadata": {},
   "outputs": [
    {
     "name": "stdout",
     "output_type": "stream",
     "text": [
      "Image # 1 top 5 predicted indices are [10  9 23  5 42]\n",
      "Probabilities are [  9.99981642e-01   1.53403034e-05   1.55594182e-06   1.00069497e-06\n",
      "   2.67203291e-07]\n",
      "\n",
      "Image # 2 top 5 predicted indices are [38 34 20 36 40]\n",
      "Probabilities are [  1.00000000e+00   6.32613130e-14   1.24744321e-15   7.79721125e-19\n",
      "   2.58768834e-20]\n",
      "\n",
      "Image # 3 top 5 predicted indices are [40 37 39 33  1]\n",
      "Probabilities are [  9.82176661e-01   1.78229362e-02   3.60211232e-07   4.02539868e-08\n",
      "   3.73161324e-09]\n",
      "\n",
      "Image # 4 top 5 predicted indices are [ 6 42 32  5  3]\n",
      "Probabilities are [  9.99999881e-01   7.47210436e-08   8.57244054e-10   5.72543957e-10\n",
      "   4.39701164e-10]\n",
      "\n",
      "Image # 5 top 5 predicted indices are [ 9 10 16 42 41]\n",
      "Probabilities are [  9.99966145e-01   2.27319415e-05   1.10898891e-05   2.15331308e-09\n",
      "   1.72190950e-09]\n",
      "\n"
     ]
    }
   ],
   "source": [
    "### Print out the top five softmax probabilities for the predictions on the German traffic sign images found on the web. \n",
    "### Feel free to use as many code cells as needed.\n",
    "i = 1\n",
    "logits_soft = tf.placeholder(tf.float32, (n_classes))\n",
    "\n",
    "with tf.Session() as sess:\n",
    "    saver.restore(sess, read_model)\n",
    "    for i_logits in logits_list[0:5]:\n",
    "        i_logits = np.squeeze(i_logits)\n",
    "        prob_soft = sess.run(tf.nn.softmax(i_logits), feed_dict = {logits_soft: i_logits})\n",
    "        values, indices = sess.run(tf.nn.top_k(tf.constant(prob_soft), k = 5))\n",
    "        print('Image # %d'%(i), 'top 5 predicted indices are', indices[0:5])\n",
    "        print('Probabilities are', values[0:5])\n",
    "        print()\n",
    "        i += 1\n",
    "#print(logits_list)"
   ]
  },
  {
   "cell_type": "code",
   "execution_count": 284,
   "metadata": {},
   "outputs": [
    {
     "name": "stdout",
     "output_type": "stream",
     "text": [
      "For image # 1\n",
      "Top # 1 predicted indices is No passing for vehicles over 3.5 metric tons\n",
      "Top # 2 predicted indices is No passing\n",
      "Top # 3 predicted indices is Slippery road\n",
      "Top # 4 predicted indices is Speed limit (80km/h)\n",
      "Top # 5 predicted indices is End of no passing by vehicles over 3.5 metric tons\n",
      "For image # 2\n",
      "Top # 1 predicted indices is Keep right\n",
      "Top # 2 predicted indices is Turn left ahead\n",
      "Top # 3 predicted indices is Dangerous curve to the right\n",
      "Top # 4 predicted indices is Go straight or right\n",
      "Top # 5 predicted indices is Roundabout mandatory\n",
      "For image # 3\n",
      "Top # 1 predicted indices is Roundabout mandatory\n",
      "Top # 2 predicted indices is Go straight or left\n",
      "Top # 3 predicted indices is Keep left\n",
      "Top # 4 predicted indices is Turn right ahead\n",
      "Top # 5 predicted indices is Speed limit (70km/h)\n",
      "For image # 4\n",
      "Top # 1 predicted indices is End of speed limit (80km/h)\n",
      "Top # 2 predicted indices is End of no passing by vehicles over 3.5 metric tons\n",
      "Top # 3 predicted indices is End of all speed and passing limits\n",
      "Top # 4 predicted indices is Speed limit (80km/h)\n",
      "Top # 5 predicted indices is Speed limit (60km/h)\n",
      "For image # 5\n",
      "Top # 1 predicted indices is No passing\n",
      "Top # 2 predicted indices is No passing for vehicles over 3.5 metric tons\n",
      "Top # 3 predicted indices is Vehicles over 3.5 metric tons prohibited\n",
      "Top # 4 predicted indices is End of no passing by vehicles over 3.5 metric tons\n",
      "Top # 5 predicted indices is End of no passing\n"
     ]
    }
   ],
   "source": [
    "a1 = [10,  9,  23,  5, 42]\n",
    "a2 = [38, 34, 20, 36, 40]\n",
    "a3 = [40, 37, 39, 33, 4]\n",
    "a4 = [ 6, 42, 32,  5, 3]\n",
    "a5 = [ 9, 10, 16, 42, 41]\n",
    "top5ind = [a1, a2, a3, a4, a5]\n",
    "\n",
    "for i in range(len(top5ind)):\n",
    "    ai = top5ind[i]\n",
    "    print('For image # %d'%(i+1))\n",
    "    for j in range(len(ai)):\n",
    "        print('Top # %d predicted indices is'%(j+1), signname_dict[str(top5ind[i][j])])\n",
    "\n",
    "\n"
   ]
  },
  {
   "cell_type": "markdown",
   "metadata": {},
   "source": [
    "### Project Writeup\n",
    "\n",
    "Once you have completed the code implementation, document your results in a project writeup using this [template](https://github.com/udacity/CarND-Traffic-Sign-Classifier-Project/blob/master/writeup_template.md) as a guide. The writeup can be in a markdown or pdf file. "
   ]
  },
  {
   "cell_type": "markdown",
   "metadata": {},
   "source": [
    "> **Note**: Once you have completed all of the code implementations and successfully answered each question above, you may finalize your work by exporting the iPython Notebook as an HTML document. You can do this by using the menu above and navigating to  \\n\",\n",
    "    \"**File -> Download as -> HTML (.html)**. Include the finished document along with this notebook as your submission."
   ]
  },
  {
   "cell_type": "markdown",
   "metadata": {},
   "source": [
    "---\n",
    "\n",
    "## Step 4 (Optional): Visualize the Neural Network's State with Test Images\n",
    "\n",
    " This Section is not required to complete but acts as an additional excersise for understaning the output of a neural network's weights. While neural networks can be a great learning device they are often referred to as a black box. We can understand what the weights of a neural network look like better by plotting their feature maps. After successfully training your neural network you can see what it's feature maps look like by plotting the output of the network's weight layers in response to a test stimuli image. From these plotted feature maps, it's possible to see what characteristics of an image the network finds interesting. For a sign, maybe the inner network feature maps react with high activation to the sign's boundary outline or to the contrast in the sign's painted symbol.\n",
    "\n",
    " Provided for you below is the function code that allows you to get the visualization output of any tensorflow weight layer you want. The inputs to the function should be a stimuli image, one used during training or a new one you provided, and then the tensorflow variable name that represents the layer's state during the training process, for instance if you wanted to see what the [LeNet lab's](https://classroom.udacity.com/nanodegrees/nd013/parts/fbf77062-5703-404e-b60c-95b78b2f3f9e/modules/6df7ae49-c61c-4bb2-a23e-6527e69209ec/lessons/601ae704-1035-4287-8b11-e2c2716217ad/concepts/d4aca031-508f-4e0b-b493-e7b706120f81) feature maps looked like for it's second convolutional layer you could enter conv2 as the tf_activation variable.\n",
    "\n",
    "For an example of what feature map outputs look like, check out NVIDIA's results in their paper [End-to-End Deep Learning for Self-Driving Cars](https://devblogs.nvidia.com/parallelforall/deep-learning-self-driving-cars/) in the section Visualization of internal CNN State. NVIDIA was able to show that their network's inner weights had high activations to road boundary lines by comparing feature maps from an image with a clear path to one without. Try experimenting with a similar test to show that your trained network's weights are looking for interesting features, whether it's looking at differences in feature maps from images with or without a sign, or even what feature maps look like in a trained network vs a completely untrained one on the same sign image.\n",
    "\n",
    "<figure>\n",
    " <img src=\"visualize_cnn.png\" width=\"380\" alt=\"Combined Image\" />\n",
    " <figcaption>\n",
    " <p></p> \n",
    " <p style=\"text-align: center;\"> Your output should look something like this (above)</p> \n",
    " </figcaption>\n",
    "</figure>\n",
    " <p></p> \n"
   ]
  },
  {
   "cell_type": "code",
   "execution_count": null,
   "metadata": {
    "collapsed": true
   },
   "outputs": [],
   "source": [
    "### Visualize your network's feature maps here.\n",
    "### Feel free to use as many code cells as needed.\n",
    "\n",
    "# image_input: the test image being fed into the network to produce the feature maps\n",
    "# tf_activation: should be a tf variable name used during your training procedure that represents the calculated state of a specific weight layer\n",
    "# activation_min/max: can be used to view the activation contrast in more detail, by default matplot sets min and max to the actual min and max values of the output\n",
    "# plt_num: used to plot out multiple different weight feature map sets on the same block, just extend the plt number for each new feature map entry\n",
    "\n",
    "def outputFeatureMap(image_input, tf_activation, activation_min=-1, activation_max=-1 ,plt_num=1):\n",
    "    # Here make sure to preprocess your image_input in a way your network expects\n",
    "    # with size, normalization, ect if needed\n",
    "    # image_input =\n",
    "    # Note: x should be the same name as your network's tensorflow data placeholder variable\n",
    "    # If you get an error tf_activation is not defined it may be having trouble accessing the variable from inside a function\n",
    "    activation = tf_activation.eval(session=sess,feed_dict={x : image_input})\n",
    "    featuremaps = activation.shape[3]\n",
    "    plt.figure(plt_num, figsize=(15,15))\n",
    "    for featuremap in range(featuremaps):\n",
    "        plt.subplot(6,8, featuremap+1) # sets the number of feature maps to show on each row and column\n",
    "        plt.title('FeatureMap ' + str(featuremap)) # displays the feature map number\n",
    "        if activation_min != -1 & activation_max != -1:\n",
    "            plt.imshow(activation[0,:,:, featuremap], interpolation=\"nearest\", vmin =activation_min, vmax=activation_max, cmap=\"gray\")\n",
    "        elif activation_max != -1:\n",
    "            plt.imshow(activation[0,:,:, featuremap], interpolation=\"nearest\", vmax=activation_max, cmap=\"gray\")\n",
    "        elif activation_min !=-1:\n",
    "            plt.imshow(activation[0,:,:, featuremap], interpolation=\"nearest\", vmin=activation_min, cmap=\"gray\")\n",
    "        else:\n",
    "            plt.imshow(activation[0,:,:, featuremap], interpolation=\"nearest\", cmap=\"gray\")"
   ]
  }
 ],
 "metadata": {
  "anaconda-cloud": {},
  "kernelspec": {
   "display_name": "Python 3",
   "language": "python",
   "name": "python3"
  },
  "language_info": {
   "codemirror_mode": {
    "name": "ipython",
    "version": 3
   },
   "file_extension": ".py",
   "mimetype": "text/x-python",
   "name": "python",
   "nbconvert_exporter": "python",
   "pygments_lexer": "ipython3",
   "version": "3.5.2"
  },
  "widgets": {
   "state": {},
   "version": "1.1.2"
  }
 },
 "nbformat": 4,
 "nbformat_minor": 1
}
